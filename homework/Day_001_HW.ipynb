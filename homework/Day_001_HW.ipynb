{
 "cells": [
  {
   "cell_type": "markdown",
   "metadata": {},
   "source": [
    "## 練習時間\n",
    "#### 請寫一個函式用來計算 Mean Square Error\n",
    "$ MSE = \\frac{1}{n}\\sum_{i=1}^{n}{(Y_i - \\hat{Y}_i)^2} $\n",
    "\n",
    "### Hint: [如何取平方](https://googoodesign.gitbooks.io/-ezpython/unit-1.html)"
   ]
  },
  {
   "cell_type": "code",
   "execution_count": 3,
   "metadata": {},
   "outputs": [],
   "source": [
    "# ===================================作業一：===================================\n",
    "# 請上 Kaggle, 在 Competitions 或 Dataset 中找一組競賽或資料並寫下：\n",
    " \n",
    "# ------------1. 你選的這組資料為何重要------------\n",
    "# 其記錄了目前 YouTube影片的趨勢\n",
    "# 由於 YouTube目前為大眾主流的串流平台，故可以間接地知道大眾所關注的議題為何，並從中找出發想出符合潮流的商業模式\n",
    " \n",
    "# ------------2. 資料從何而來 (tips: 譬如提供者是誰、以什麼方式蒐集)------------\n",
    "# 每天記錄前幾名的 YouTube影片\n",
    "\n",
    "# ------------3. 蒐集而來的資料型態為何------------\n",
    "# 資料型態根據欄位的不同而有不同：object,int64,bool\n",
    "# \"USvideos.csv\" \n",
    "# -video_id                  object\n",
    "# -trending_date             object\n",
    "# -title                     object\n",
    "# -channel_title             object\n",
    "# -category_id                int64\n",
    "# -publish_time              object\n",
    "# -tags                      object\n",
    "# -views                      int64\n",
    "# -likes                      int64\n",
    "# -dislikes                   int64\n",
    "# -comment_count              int64\n",
    "# -thumbnail_link            object\n",
    "# -comments_disabled           bool\n",
    "# -ratings_disabled            bool\n",
    "# -video_error_or_removed      bool\n",
    "# -description               object\n",
    "\n",
    "#------------ 4. 這組資料想解決的問題如何評估------------\n",
    "# \n",
    "# (1)了解市場趨勢：分析影響 YouTube影片熱度的因子\n",
    "# (2)推薦適合的影片：訓練機器學習演算法去根據使用者習慣推薦適合的影片"
   ]
  },
  {
   "cell_type": "code",
   "execution_count": 5,
   "metadata": {},
   "outputs": [],
   "source": [
    "# ===================================作業二：===================================\n",
    "# 想像你經營一個自由載客車隊，你希望能透過數據分析以提升業績，請你思考並描述你如何規劃整體的分析/解決方案：\n",
    "\n",
    "# ------------1. 核心問題為何 (tips：如何定義 「提升業績 & 你的假設」)------------\n",
    "# (1)如何吸引載客司機\n",
    "# (2)如何吸引乘客不搭計程車改搭我們車\n",
    "    \n",
    "# ------------2. 資料從何而來 (tips：哪些資料可能會對你想問的問題產生影響 & 資料如何蒐集)------------\n",
    "# 透過 APP收集交易觸發時間、搭乘起點、搭乘終點...等資料，並透過其分析出尖峰時刻及尖峰地點，再根據其結果調整費率\n",
    "\n",
    "# ------------3. 蒐集而來的資料型態為何------------\n",
    "# -交易觸發時間    date\n",
    "# -搭乘起點      object\n",
    "# -搭乘終點      object\n",
    "\n",
    "# ------------4. 你要回答的問題，其如何評估 (tips：你的假設如何驗證)------------\n",
    "# (1)彈性的工作時間，以不需執照及利用閒置的時間賺錢作為行銷手法吸引司機\n",
    "# (2)首次搭乘發放小額獎金吸引乘客，並利用評分機制回饋司機服務等級以提升服務品質，再利用較高的服務品質持續吸引乘客以形成證像的循環"
   ]
  },
  {
   "cell_type": "code",
   "execution_count": null,
   "metadata": {},
   "outputs": [],
   "source": [
    "## 練習時間\n",
    "#### 請寫一個函式用來計算 Mean Square Error\n",
    "$ MSE = \\frac{1}{n}\\sum_{i=1}^{n}{(Y_i - \\hat{Y}_i)^2} $\n",
    "\n",
    "### Hint: [如何取平方](https://googoodesign.gitbooks.io/-ezpython/unit-1.html)"
   ]
  },
  {
   "cell_type": "code",
   "execution_count": 28,
   "metadata": {},
   "outputs": [],
   "source": [
    "# ===================================作業三：===================================\n",
    "import numpy as np\n",
    "import matplotlib.pyplot as plt"
   ]
  },
  {
   "cell_type": "code",
   "execution_count": 41,
   "metadata": {
    "scrolled": false
   },
   "outputs": [],
   "source": [
    "def mean_squared_error(y, yp):\n",
    "    \"\"\"\n",
    "    計算 MSE\n",
    "    Args:\n",
    "        - y: 實際值\n",
    "        - yp: 預測值\n",
    "    Return:\n",
    "        - mse: MSE\n",
    "    \"\"\"\n",
    "    mse = MSE = sum((y-yp)**2)/ len(y)\n",
    "    return mse"
   ]
  },
  {
   "cell_type": "code",
   "execution_count": 36,
   "metadata": {},
   "outputs": [],
   "source": [
    "def mean_absolute_error(y, yp):\n",
    "    \"\"\"\n",
    "    計算 MAE\n",
    "    Args:\n",
    "        - y: 實際值\n",
    "        - yp: 預測值\n",
    "    Return:\n",
    "        - mae: MAE\n",
    "    \"\"\"\n",
    "    mae = MAE = sum(abs(y - yp)) / len(y)\n",
    "    return mae"
   ]
  },
  {
   "cell_type": "code",
   "execution_count": 37,
   "metadata": {},
   "outputs": [
    {
     "data": {
      "image/png": "[encoded data removed]",
      "text/plain": [
       "<Figure size 432x288 with 1 Axes>"
      ]
     },
     "metadata": {
      "needs_background": "light"
     },
     "output_type": "display_data"
    }
   ],
   "source": [
    "w = 3\n",
    "b = 0.5\n",
    "\n",
    "x_lin = np.linspace(0, 100, 101)\n",
    "\n",
    "y = (x_lin + np.random.randn(101) * 5) * w + b\n",
    "\n",
    "plt.plot(x_lin, y, 'b.', label = 'data points')\n",
    "plt.title(\"Assume we have data points\")\n",
    "plt.legend(loc = 2)\n",
    "plt.show()"
   ]
  },
  {
   "cell_type": "code",
   "execution_count": 38,
   "metadata": {
    "scrolled": true
   },
   "outputs": [
    {
     "data": {
      "image/png": "[encoded data removed]",
      "text/plain": [
       "<Figure size 432x288 with 1 Axes>"
      ]
     },
     "metadata": {
      "needs_background": "light"
     },
     "output_type": "display_data"
    }
   ],
   "source": [
    "y_hat = x_lin * w + b\n",
    "plt.plot(x_lin, y, 'b.', label = 'data')\n",
    "plt.plot(x_lin, y_hat, 'r-', label = 'prediction')\n",
    "plt.title(\"Assume we have data points (And the prediction)\")\n",
    "plt.legend(loc = 2)\n",
    "plt.show()"
   ]
  },
  {
   "cell_type": "code",
   "execution_count": 42,
   "metadata": {
    "scrolled": true
   },
   "outputs": [
    {
     "name": "stdout",
     "output_type": "stream",
     "text": [
      "The Mean squared error is 189.023\n",
      "The Mean absolute error is 10.971\n"
     ]
    }
   ],
   "source": [
    "# 執行 Function, 確認有沒有正常執行\n",
    "MSE = mean_squared_error(y, y_hat)\n",
    "MAE = mean_absolute_error(y, y_hat)\n",
    "print(\"The Mean squared error is %.3f\" % (MSE))\n",
    "print(\"The Mean absolute error is %.3f\" % (MAE))"
   ]
  }
 ],
 "metadata": {
  "anaconda-cloud": {},
  "kernelspec": {
   "display_name": "Python 3",
   "language": "python",
   "name": "python3"
  },
  "language_info": {
   "codemirror_mode": {
    "name": "ipython",
    "version": 3
   },
   "file_extension": ".py",
   "mimetype": "text/x-python",
   "name": "python",
   "nbconvert_exporter": "python",
   "pygments_lexer": "ipython3",
   "version": "3.7.1"
  }
 },
 "nbformat": 4,
 "nbformat_minor": 1
}
